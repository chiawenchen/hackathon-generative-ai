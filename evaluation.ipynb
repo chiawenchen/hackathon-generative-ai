{
  "cells": [
    {
      "cell_type": "markdown",
      "source": [
        "# Generative Model for SVHN Image and Label Synthesis Evaluation\n",
        "\n",
        "This notebook will be used for evaluationg your model. Your task is to complete the model definition and generator function cell. You need to copy over you model definition, load the weights, and make sure that the generator function is generating the data in the correct format.\n",
        "\n",
        "The generator models are evaluated by training a fixed classifier on their generated data, and measuring the classifier performance on an evaluation dataset. You **CANNOT** modify the classifier or its training. The classifier is trained with 3 seeds. The 3 seeds are going to be changed for the final evaluation and the leaderboard to avoid overfitting to these seeds.\n",
        "\n",
        "\n",
        "\n",
        "## Tasks:\n",
        "   - Define a class for your generative model.\n",
        "   - Load the weights you have trained into this model from your checkpoint.\n",
        "   - If needed, you can modify the function named `generate` to work with your model.\n",
        "\n",
        "## Generator function:\n",
        "You can modify the `generate`, but it should satisfy the the follwing properties.\n",
        "- **Input:**\n",
        "   - number of samples\n",
        "\n",
        "- **Output:**\n",
        "   - A floating-point image matrix of size `(n_samples x 3 x 32 x 32)` in the range of [0,1].\n",
        "   - An integer label matrix of size `(n_samples x 1)` in the range of 0 to 9.\n",
        "\n",
        "- **Perfomrance constraint:**\n",
        "   - Ensure the generation of 1000 samples within 3 seconds on the snowflake cluster or colab.\n",
        "   - Stay within a maximum of 10GB of GPU memory.\n",
        "\n",
        "## Important\n",
        "\n",
        "- **Fixed classifier:**  You can only modify the model definition and generator function cell.\n",
        "- **Data:**  Do not load any external data.\n",
        "- **Models:**  Do not load externaly pre-trained (not by you for this hackathon) models.\n",
        "\n",
        "\n",
        "\n",
        "Follow the provided structure, and make sure to comply with the outlined requirements. The success of your submission depends on the effectiveness of your generator function and the ability of your model to produce realistic SVHN images with accurate labels. Highest classifier accuracy wins.\n",
        "\n",
        "Submission instructions in the main notebook.\n"
      ],
      "metadata": {
        "id": "sal1GUTG92po"
      }
    },
    {
      "cell_type": "code",
      "source": [
        "team_members = ['Ming-Han Lee', 'Chia-Wen Chen']\n",
        "assert len(team_members) > 0"
      ],
      "metadata": {
        "id": "XINxQ7TcDX-d"
      },
      "execution_count": 2,
      "outputs": []
    },
    {
      "cell_type": "markdown",
      "source": [
        "### Imports"
      ],
      "metadata": {
        "id": "xhsvB7dTJ_Tm"
      }
    },
    {
      "cell_type": "code",
      "source": [
        "import os\n",
        "import time\n",
        "import numpy as np\n",
        "from tqdm import tqdm\n",
        "from google.colab import drive\n",
        "import matplotlib.pyplot as plt\n",
        "from mpl_toolkits.axes_grid1 import ImageGrid\n",
        "from sklearn.metrics import accuracy_score\n",
        "\n",
        "import torch\n",
        "import torch.nn as nn\n",
        "from torch.optim import Adam\n",
        "import torch.nn.functional as F\n",
        "from torch.utils.data import Dataset, DataLoader\n",
        "from torchvision import transforms\n",
        "from torchvision.datasets import SVHN\n",
        "import torchvision.transforms as transforms\n",
        "from torchvision.utils import save_image, make_grid"
      ],
      "metadata": {
        "id": "BgEXAAR06pTZ"
      },
      "execution_count": 1,
      "outputs": []
    },
    {
      "cell_type": "markdown",
      "source": [
        "### Model definition and generator function\n",
        "\n",
        "You can modify this cell. Complete the generate function to sample data from your model output."
      ],
      "metadata": {
        "id": "6qqnYkxyKCxA"
      }
    },
    {
      "cell_type": "code",
      "source": [
        "# Model definition and generator function, you should modify this\n",
        "device = torch.device(\"cuda\" if torch.cuda.is_available() else \"cpu\")\n",
        "# Networks\n",
        "def conv_block(c_in, c_out, k_size=4, stride=2, pad=1, use_bn=True, transpose=False):\n",
        "    module = []\n",
        "    if transpose:\n",
        "        module.append(nn.ConvTranspose2d(c_in, c_out, k_size, stride, pad, bias=not use_bn))\n",
        "    else:\n",
        "        module.append(nn.Conv2d(c_in, c_out, k_size, stride, pad, bias=not use_bn))\n",
        "    if use_bn:\n",
        "        module.append(nn.BatchNorm2d(c_out))\n",
        "    return nn.Sequential(*module)\n",
        "\n",
        "class Generator(nn.Module):\n",
        "    def __init__(self, z_dim=10, num_classes=10, label_embed_size=5, channels=3, conv_dim=64):\n",
        "        super(Generator, self).__init__()\n",
        "        self.num_classes = num_classes\n",
        "        self.z_dim = z_dim\n",
        "        self.label_embedding = nn.Embedding(num_classes, label_embed_size)\n",
        "        self.tconv1 = conv_block(z_dim + label_embed_size, conv_dim * 4, pad=0, transpose=True)\n",
        "        self.tconv2 = conv_block(conv_dim * 4, conv_dim * 2, transpose=True)\n",
        "        self.tconv3 = conv_block(conv_dim * 2, conv_dim, transpose=True)\n",
        "        self.tconv4 = conv_block(conv_dim, channels, transpose=True, use_bn=False)\n",
        "\n",
        "        for m in self.modules():\n",
        "            if isinstance(m, nn.Conv2d) or isinstance(m, nn.ConvTranspose2d):\n",
        "                nn.init.normal_(m.weight, 0.0, 0.02)\n",
        "\n",
        "            if isinstance(m, nn.BatchNorm2d):\n",
        "                nn.init.constant_(m.weight, 1)\n",
        "                nn.init.constant_(m.bias, 0)\n",
        "\n",
        "    def forward(self, x, label):\n",
        "        x = x.reshape([x.shape[0], -1, 1, 1])\n",
        "        label_embed = self.label_embedding(label)\n",
        "        label_embed = label_embed.reshape([label_embed.shape[0], -1, 1, 1])\n",
        "        x = torch.cat((x, label_embed), dim=1)\n",
        "        x = F.relu(self.tconv1(x))\n",
        "        x = F.relu(self.tconv2(x))\n",
        "        x = F.relu(self.tconv3(x))\n",
        "        x = torch.tanh(self.tconv4(x))\n",
        "        return x\n",
        "\n",
        "    def generate(self, n_samples=1000, device=device):\n",
        "        labels = torch.randint(0, self.num_classes, (n_samples,)).to(device)\n",
        "        z_fake = torch.randn((n_samples, self.z_dim), dtype=torch.float).to(device)\n",
        "        fake_imgs = self.forward(z_fake, labels)\n",
        "        fake_imgs = (fake_imgs + 1) / 2\n",
        "\n",
        "        return fake_imgs, labels\n",
        "\n",
        "\n",
        "\n",
        "generator_model = Generator().to(device)\n",
        "model_path = ''\n",
        "generator_model.load_state_dict(torch.load(os.path.join(model_path, 'checkpoints.pkl')))\n",
        "\n",
        "# # Load checkpoint on Google Drive\n",
        "# drive.mount('/content/gdrive', force_remount=True)\n",
        "# checkpoint_path = '/content/gdrive/MyDrive/path_to_model.pth'\n",
        "# checkpoint = torch.load(checkpoint_path)\n",
        "# generator_model.load_state_dict(checkpoint['model_state_dict'])\n",
        "\n",
        "\n",
        "def generate(n_samples=1000): # WHY NOT JUST USE THE GENERATE FUNCTION IN THE CLASS? THIS IS DONE IN THE TRA\n",
        "    generator_model.eval()\n",
        "    images, labels = generator_model.generate(n_samples, device=device)\n",
        "    return images, labels"
      ],
      "metadata": {
        "id": "ZL0Num1_Rtpi"
      },
      "execution_count": 4,
      "outputs": []
    },
    {
      "cell_type": "markdown",
      "source": [
        "### Speed test\n",
        "\n",
        "Testing if your model can sample at the required speed. If you are over the limit, then please simplify your model."
      ],
      "metadata": {
        "id": "Av24zfN9Kchv"
      }
    },
    {
      "cell_type": "code",
      "source": [
        "num_runs = 10\n",
        "\n",
        "start_time = time.time()\n",
        "for _ in range(num_runs):\n",
        "    generate(n_samples=1000)\n",
        "end_time = time.time()\n",
        "\n",
        "average_time = (end_time - start_time) / num_runs\n",
        "print(f\"Average time per execution: {average_time:.6f} seconds\")\n",
        "if device == \"cpu\":\n",
        "    print(\"Running on the CPU can make generating samples slower\")\n",
        "assert average_time <= 3, \"Your generator is too slow (takes more than 3s to generate 1000 samples)\""
      ],
      "metadata": {
        "id": "eI2qDMYeLeeA",
        "colab": {
          "base_uri": "https://localhost:8080/"
        },
        "outputId": "19d8c022-a740-4701-b562-d6e1ae110604"
      },
      "execution_count": 5,
      "outputs": [
        {
          "output_type": "stream",
          "name": "stdout",
          "text": [
            "Average time per execution: 0.164822 seconds\n"
          ]
        }
      ]
    },
    {
      "cell_type": "markdown",
      "source": [
        "### Visualizing samples from your model"
      ],
      "metadata": {
        "id": "th2tu2BCKomy"
      }
    },
    {
      "cell_type": "code",
      "source": [
        "num_samples = 50\n",
        "images, labels = generate(n_samples=num_samples)\n",
        "\n",
        "fig = plt.figure(figsize=(20, 10))\n",
        "grid = ImageGrid(fig, 111, nrows_ncols=(5, 10), axes_pad=0.3)\n",
        "\n",
        "for ax, im, label in zip(grid, images, labels):\n",
        "    im = im.permute(1, 2, 0)\n",
        "    im = im.detach().cpu().numpy()\n",
        "    ax.imshow(im)\n",
        "    ax.axis('off')\n",
        "    ax.set_title(f'{label.item()}')\n",
        "\n",
        "plt.show()"
      ],
      "metadata": {
        "id": "qoxrPXXQ7Hm7"
      },
      "execution_count": null,
      "outputs": []
    },
    {
      "cell_type": "markdown",
      "source": [
        "## Classifier - DO **NOT** MODIFY ANY OF THESE CELLS"
      ],
      "metadata": {
        "id": "k790uJmhYLJd"
      }
    },
    {
      "cell_type": "markdown",
      "source": [
        "### Classifier definition"
      ],
      "metadata": {
        "id": "YQdVk7MrKtYK"
      }
    },
    {
      "cell_type": "code",
      "source": [
        "class Classifier(nn.Module):\n",
        "    def __init__(self):\n",
        "        super(Classifier, self).__init__()\n",
        "\n",
        "        # Convolutional layers\n",
        "        self.conv_blocks = nn.ModuleList([\n",
        "            nn.Sequential(\n",
        "                nn.Conv2d(3, 32, kernel_size=(3, 3), padding=(1, 1)),\n",
        "                nn.BatchNorm2d(32),\n",
        "                nn.ReLU(),\n",
        "                nn.Dropout2d(p=0.0),\n",
        "                nn.MaxPool2d(kernel_size=(2, 2))\n",
        "            ),\n",
        "            nn.Sequential(\n",
        "                nn.Conv2d(32, 64, kernel_size=(3, 3), padding=(1, 1)),\n",
        "                nn.BatchNorm2d(64),\n",
        "                nn.ReLU(),\n",
        "                nn.Dropout2d(p=0.0),\n",
        "                nn.MaxPool2d(kernel_size=(2, 2))\n",
        "            ),\n",
        "            nn.Sequential(\n",
        "                nn.Conv2d(64, 64, kernel_size=(3, 3), padding=(1, 1)),\n",
        "                nn.BatchNorm2d(64),\n",
        "                nn.ReLU(),\n",
        "                nn.Dropout2d(p=0.0),\n",
        "                nn.MaxPool2d(kernel_size=(2, 2))\n",
        "            )\n",
        "        ])\n",
        "\n",
        "        # Flatten\n",
        "        self.flatten = nn.Flatten()\n",
        "\n",
        "        # Linear layers\n",
        "        self.linear_blocks = nn.ModuleList([\n",
        "            nn.Sequential(\n",
        "                nn.Linear(64 * 4 * 4, 64),\n",
        "                nn.Dropout(p=0.0),\n",
        "                nn.ReLU()\n",
        "            ),\n",
        "            nn.Sequential(\n",
        "                nn.Linear(64, 10),\n",
        "                nn.Dropout(p=0.0),\n",
        "                nn.LogSoftmax(dim=1)\n",
        "            )\n",
        "        ])\n",
        "\n",
        "    def forward(self, x):\n",
        "        for conv_block in self.conv_blocks:\n",
        "            x = conv_block(x)\n",
        "        x = self.flatten(x)\n",
        "        for linear_block in self.linear_blocks:\n",
        "            x = linear_block(x)\n",
        "        return x"
      ],
      "metadata": {
        "id": "kCp663vlLjdy"
      },
      "execution_count": 6,
      "outputs": []
    },
    {
      "cell_type": "markdown",
      "source": [
        "### Training and evaluation functions"
      ],
      "metadata": {
        "id": "YwBvGV_hKwYa"
      }
    },
    {
      "cell_type": "code",
      "source": [
        "def train_one_epoch(classifier, optimizer, loss_fn, num_iters=100):\n",
        "    classifier.train()\n",
        "    train_losses_epoch, train_accs_epoch = [], []\n",
        "    progress_bar = tqdm(range(num_iters), desc='Training')\n",
        "\n",
        "    for _ in progress_bar:\n",
        "        images, labels = generate()\n",
        "        images = images.to(device)\n",
        "        labels = labels.to(device)\n",
        "\n",
        "        optimizer.zero_grad()\n",
        "        logits = classifier(images)\n",
        "        loss = loss_fn(logits, labels)\n",
        "\n",
        "        loss.backward()\n",
        "        optimizer.step()\n",
        "\n",
        "        train_losses_epoch.append(loss.item())\n",
        "        preds = torch.argmax(logits, dim=1).cpu().numpy()\n",
        "        labels = labels.cpu().numpy()\n",
        "        train_accs_epoch.append(accuracy_score(preds, labels))\n",
        "\n",
        "    train_loss_epoch = sum(train_losses_epoch) / len(train_losses_epoch)\n",
        "    train_acc_epoch = sum(train_accs_epoch) / len(train_accs_epoch)\n",
        "\n",
        "    return train_loss_epoch, train_acc_epoch\n",
        "\n",
        "def evaluate(model, test_loader, loss_fn):\n",
        "    model.eval()\n",
        "    true_values, pred_values = [], []\n",
        "    losses = []\n",
        "    for batch in test_loader:\n",
        "        images, labels = batch\n",
        "        images = images.to(device)\n",
        "        labels = labels.to(device)\n",
        "\n",
        "        with torch.no_grad():\n",
        "            logits = model(images)\n",
        "            loss = loss_fn(logits, labels)\n",
        "        losses.append(loss.item())\n",
        "        preds = torch.argmax(logits, dim=1).cpu().numpy()\n",
        "        labels = labels.cpu().numpy()\n",
        "\n",
        "        true_values.extend(labels.tolist())\n",
        "        pred_values.extend(preds.tolist())\n",
        "\n",
        "    accuracy = accuracy_score(pred_values, true_values)\n",
        "    loss = sum(losses) / len(losses)\n",
        "    return true_values, pred_values, loss, accuracy\n",
        "\n",
        "def plot_training_curves(train_losses, train_accs, val_losses, val_accs):\n",
        "    plt.subplot(2, 1, 1)\n",
        "    plt.plot(np.arange(len(train_losses))+1, train_losses, label=\"train\")\n",
        "    plt.plot(np.arange(len(val_losses))+1, val_losses, label=\"valid\")\n",
        "    plt.xlabel(\"epochs\")\n",
        "    plt.ylabel(\"loss\")\n",
        "    plt.legend(loc=\"best\")\n",
        "\n",
        "    plt.subplot(2, 1, 2)\n",
        "    plt.plot(np.arange(len(train_accs))+1, train_accs, label=\"train\")\n",
        "    plt.plot(np.arange(len(val_accs))+1, val_accs, label=\"valid\")\n",
        "    plt.xlabel(\"epochs\")\n",
        "    plt.ylabel(\"accuracy\")\n",
        "    plt.legend(loc=\"best\")\n",
        "\n",
        "    plt.tight_layout()\n",
        "    plt.show()"
      ],
      "metadata": {
        "id": "bk_kd3QTM6xL"
      },
      "execution_count": 7,
      "outputs": []
    },
    {
      "cell_type": "markdown",
      "source": [
        "### Running training and evaluation with 3 seeds"
      ],
      "metadata": {
        "id": "b5kbZUyzK4q4"
      }
    },
    {
      "cell_type": "code",
      "source": [
        "transform = transforms.ToTensor()\n",
        "test_dataset = SVHN(root='~/datasets', split='test', transform=transform, download=True)\n",
        "test_loader = DataLoader(dataset=test_dataset, batch_size=1000, shuffle=False)\n",
        "\n",
        "def run_experiment(seed):\n",
        "    torch.manual_seed(seed)\n",
        "    np.random.seed(seed)\n",
        "\n",
        "    classifier = Classifier().to(device)\n",
        "    loss_fn = nn.CrossEntropyLoss()\n",
        "    optimizer = Adam(classifier.parameters(), lr=0.001)\n",
        "\n",
        "    NUM_EPOCHS = 10\n",
        "    train_losses, train_accs, val_losses, val_accs = [], [], [], []\n",
        "    for epoch in range(1, NUM_EPOCHS + 1):\n",
        "        # Training\n",
        "        train_loss_epoch, train_acc_epoch = train_one_epoch(classifier, optimizer, loss_fn)\n",
        "\n",
        "        # Validation\n",
        "        true_values, pred_values, val_loss_epoch, val_acc_epoch = evaluate(classifier, test_loader, loss_fn)\n",
        "\n",
        "        print(f\"Epoch {epoch:2d} | Train Loss: {train_loss_epoch:.3f}, Accuracy: {train_acc_epoch * 100:.2f}% | Validation Loss: {val_loss_epoch:.3f}, Accuracy: {val_acc_epoch * 100:.2f}%\")\n",
        "        train_losses.append(train_loss_epoch)\n",
        "        train_accs.append(train_acc_epoch)\n",
        "        val_losses.append(val_loss_epoch)\n",
        "        val_accs.append(val_acc_epoch)\n",
        "\n",
        "    plot_training_curves(train_losses, train_accs, val_losses, val_accs)\n",
        "    return val_accs[-1]\n",
        "\n",
        "num_seeds = 3\n",
        "val_accuracies = [run_experiment(seed) for seed in range(num_seeds)]\n",
        "print(f\"Final score: validation accuracy over {num_seeds} seeds| mean: {np.mean(val_accuracies) * 100:.4f}% | std: {np.std(val_accuracies) * 100:.4f}%\")"
      ],
      "metadata": {
        "id": "_dZLwetYRM3F",
        "colab": {
          "base_uri": "https://localhost:8080/",
          "height": 1000
        },
        "outputId": "7b7dd11e-17ee-4ae9-f31e-550cbd795ca2"
      },
      "execution_count": 8,
      "outputs": [
        {
          "output_type": "stream",
          "name": "stdout",
          "text": [
            "Downloading http://ufldl.stanford.edu/housenumbers/test_32x32.mat to /root/datasets/test_32x32.mat\n"
          ]
        },
        {
          "output_type": "stream",
          "name": "stderr",
          "text": [
            "100%|██████████| 64275384/64275384 [00:01<00:00, 41653894.04it/s]\n",
            "Training: 100%|██████████| 100/100 [00:10<00:00,  9.28it/s]\n"
          ]
        },
        {
          "output_type": "stream",
          "name": "stdout",
          "text": [
            "Epoch  1 | Train Loss: 1.255, Accuracy: 61.79% | Validation Loss: 1.281, Accuracy: 62.87%\n"
          ]
        },
        {
          "output_type": "stream",
          "name": "stderr",
          "text": [
            "Training: 100%|██████████| 100/100 [00:08<00:00, 11.35it/s]\n"
          ]
        },
        {
          "output_type": "stream",
          "name": "stdout",
          "text": [
            "Epoch  2 | Train Loss: 0.228, Accuracy: 94.91% | Validation Loss: 1.373, Accuracy: 64.70%\n"
          ]
        },
        {
          "output_type": "stream",
          "name": "stderr",
          "text": [
            "Training: 100%|██████████| 100/100 [00:08<00:00, 11.48it/s]\n"
          ]
        },
        {
          "output_type": "stream",
          "name": "stdout",
          "text": [
            "Epoch  3 | Train Loss: 0.067, Accuracy: 98.73% | Validation Loss: 1.355, Accuracy: 66.91%\n"
          ]
        },
        {
          "output_type": "stream",
          "name": "stderr",
          "text": [
            "Training: 100%|██████████| 100/100 [00:08<00:00, 11.43it/s]\n"
          ]
        },
        {
          "output_type": "stream",
          "name": "stdout",
          "text": [
            "Epoch  4 | Train Loss: 0.032, Accuracy: 99.42% | Validation Loss: 1.586, Accuracy: 63.58%\n"
          ]
        },
        {
          "output_type": "stream",
          "name": "stderr",
          "text": [
            "Training: 100%|██████████| 100/100 [00:08<00:00, 11.27it/s]\n"
          ]
        },
        {
          "output_type": "stream",
          "name": "stdout",
          "text": [
            "Epoch  5 | Train Loss: 0.021, Accuracy: 99.61% | Validation Loss: 1.523, Accuracy: 65.02%\n"
          ]
        },
        {
          "output_type": "stream",
          "name": "stderr",
          "text": [
            "Training: 100%|██████████| 100/100 [00:08<00:00, 11.13it/s]\n"
          ]
        },
        {
          "output_type": "stream",
          "name": "stdout",
          "text": [
            "Epoch  6 | Train Loss: 0.015, Accuracy: 99.71% | Validation Loss: 1.569, Accuracy: 64.65%\n"
          ]
        },
        {
          "output_type": "stream",
          "name": "stderr",
          "text": [
            "Training: 100%|██████████| 100/100 [00:09<00:00, 11.03it/s]\n"
          ]
        },
        {
          "output_type": "stream",
          "name": "stdout",
          "text": [
            "Epoch  7 | Train Loss: 0.011, Accuracy: 99.79% | Validation Loss: 1.925, Accuracy: 60.10%\n"
          ]
        },
        {
          "output_type": "stream",
          "name": "stderr",
          "text": [
            "Training: 100%|██████████| 100/100 [00:09<00:00, 10.91it/s]\n"
          ]
        },
        {
          "output_type": "stream",
          "name": "stdout",
          "text": [
            "Epoch  8 | Train Loss: 0.008, Accuracy: 99.85% | Validation Loss: 1.663, Accuracy: 63.83%\n"
          ]
        },
        {
          "output_type": "stream",
          "name": "stderr",
          "text": [
            "Training: 100%|██████████| 100/100 [00:09<00:00, 10.86it/s]\n"
          ]
        },
        {
          "output_type": "stream",
          "name": "stdout",
          "text": [
            "Epoch  9 | Train Loss: 0.007, Accuracy: 99.86% | Validation Loss: 1.578, Accuracy: 65.09%\n"
          ]
        },
        {
          "output_type": "stream",
          "name": "stderr",
          "text": [
            "Training: 100%|██████████| 100/100 [00:09<00:00, 10.88it/s]\n"
          ]
        },
        {
          "output_type": "stream",
          "name": "stdout",
          "text": [
            "Epoch 10 | Train Loss: 0.007, Accuracy: 99.86% | Validation Loss: 2.060, Accuracy: 58.77%\n"
          ]
        },
        {
          "output_type": "display_data",
          "data": {
            "text/plain": [
              "<Figure size 640x480 with 2 Axes>"
            ],
            "image/png": "[encoded data removed]"
          },
          "metadata": {}
        },
        {
          "output_type": "stream",
          "name": "stderr",
          "text": [
            "Training: 100%|██████████| 100/100 [00:09<00:00, 10.94it/s]\n"
          ]
        },
        {
          "output_type": "stream",
          "name": "stdout",
          "text": [
            "Epoch  1 | Train Loss: 1.355, Accuracy: 57.49% | Validation Loss: 1.200, Accuracy: 62.20%\n"
          ]
        },
        {
          "output_type": "stream",
          "name": "stderr",
          "text": [
            "Training: 100%|██████████| 100/100 [00:09<00:00, 10.99it/s]\n"
          ]
        },
        {
          "output_type": "stream",
          "name": "stdout",
          "text": [
            "Epoch  2 | Train Loss: 0.237, Accuracy: 94.38% | Validation Loss: 1.575, Accuracy: 61.25%\n"
          ]
        },
        {
          "output_type": "stream",
          "name": "stderr",
          "text": [
            "Training: 100%|██████████| 100/100 [00:09<00:00, 10.86it/s]\n"
          ]
        },
        {
          "output_type": "stream",
          "name": "stdout",
          "text": [
            "Epoch  3 | Train Loss: 0.079, Accuracy: 98.38% | Validation Loss: 1.929, Accuracy: 59.63%\n"
          ]
        },
        {
          "output_type": "stream",
          "name": "stderr",
          "text": [
            "Training: 100%|██████████| 100/100 [00:09<00:00, 11.00it/s]\n"
          ]
        },
        {
          "output_type": "stream",
          "name": "stdout",
          "text": [
            "Epoch  4 | Train Loss: 0.039, Accuracy: 99.24% | Validation Loss: 1.896, Accuracy: 59.27%\n"
          ]
        },
        {
          "output_type": "stream",
          "name": "stderr",
          "text": [
            "Training: 100%|██████████| 100/100 [00:09<00:00, 10.78it/s]\n"
          ]
        },
        {
          "output_type": "stream",
          "name": "stdout",
          "text": [
            "Epoch  5 | Train Loss: 0.024, Accuracy: 99.55% | Validation Loss: 2.103, Accuracy: 58.60%\n"
          ]
        },
        {
          "output_type": "stream",
          "name": "stderr",
          "text": [
            "Training: 100%|██████████| 100/100 [00:09<00:00, 10.88it/s]\n"
          ]
        },
        {
          "output_type": "stream",
          "name": "stdout",
          "text": [
            "Epoch  6 | Train Loss: 0.018, Accuracy: 99.65% | Validation Loss: 2.015, Accuracy: 59.09%\n"
          ]
        },
        {
          "output_type": "stream",
          "name": "stderr",
          "text": [
            "Training: 100%|██████████| 100/100 [00:09<00:00, 10.91it/s]\n"
          ]
        },
        {
          "output_type": "stream",
          "name": "stdout",
          "text": [
            "Epoch  7 | Train Loss: 0.013, Accuracy: 99.72% | Validation Loss: 2.235, Accuracy: 56.40%\n"
          ]
        },
        {
          "output_type": "stream",
          "name": "stderr",
          "text": [
            "Training: 100%|██████████| 100/100 [00:09<00:00, 10.96it/s]\n"
          ]
        },
        {
          "output_type": "stream",
          "name": "stdout",
          "text": [
            "Epoch  8 | Train Loss: 0.011, Accuracy: 99.76% | Validation Loss: 2.165, Accuracy: 57.74%\n"
          ]
        },
        {
          "output_type": "stream",
          "name": "stderr",
          "text": [
            "Training: 100%|██████████| 100/100 [00:09<00:00, 11.02it/s]\n"
          ]
        },
        {
          "output_type": "stream",
          "name": "stdout",
          "text": [
            "Epoch  9 | Train Loss: 0.009, Accuracy: 99.79% | Validation Loss: 2.125, Accuracy: 57.09%\n"
          ]
        },
        {
          "output_type": "stream",
          "name": "stderr",
          "text": [
            "Training: 100%|██████████| 100/100 [00:09<00:00, 10.95it/s]\n"
          ]
        },
        {
          "output_type": "stream",
          "name": "stdout",
          "text": [
            "Epoch 10 | Train Loss: 0.008, Accuracy: 99.82% | Validation Loss: 2.538, Accuracy: 55.59%\n"
          ]
        },
        {
          "output_type": "display_data",
          "data": {
            "text/plain": [
              "<Figure size 640x480 with 2 Axes>"
            ],
            "image/png": "[encoded data removed]"
          },
          "metadata": {}
        },
        {
          "output_type": "stream",
          "name": "stderr",
          "text": [
            "Training: 100%|██████████| 100/100 [00:09<00:00, 10.90it/s]\n"
          ]
        },
        {
          "output_type": "stream",
          "name": "stdout",
          "text": [
            "Epoch  1 | Train Loss: 1.454, Accuracy: 54.17% | Validation Loss: 1.427, Accuracy: 58.14%\n"
          ]
        },
        {
          "output_type": "stream",
          "name": "stderr",
          "text": [
            "Training: 100%|██████████| 100/100 [00:09<00:00, 10.92it/s]\n"
          ]
        },
        {
          "output_type": "stream",
          "name": "stdout",
          "text": [
            "Epoch  2 | Train Loss: 0.237, Accuracy: 94.78% | Validation Loss: 1.494, Accuracy: 61.01%\n"
          ]
        },
        {
          "output_type": "stream",
          "name": "stderr",
          "text": [
            "Training: 100%|██████████| 100/100 [00:09<00:00, 10.95it/s]\n"
          ]
        },
        {
          "output_type": "stream",
          "name": "stdout",
          "text": [
            "Epoch  3 | Train Loss: 0.067, Accuracy: 98.70% | Validation Loss: 1.633, Accuracy: 60.38%\n"
          ]
        },
        {
          "output_type": "stream",
          "name": "stderr",
          "text": [
            "Training: 100%|██████████| 100/100 [00:09<00:00, 10.95it/s]\n"
          ]
        },
        {
          "output_type": "stream",
          "name": "stdout",
          "text": [
            "Epoch  4 | Train Loss: 0.033, Accuracy: 99.37% | Validation Loss: 1.655, Accuracy: 60.05%\n"
          ]
        },
        {
          "output_type": "stream",
          "name": "stderr",
          "text": [
            "Training: 100%|██████████| 100/100 [00:09<00:00, 10.96it/s]\n"
          ]
        },
        {
          "output_type": "stream",
          "name": "stdout",
          "text": [
            "Epoch  5 | Train Loss: 0.021, Accuracy: 99.58% | Validation Loss: 1.704, Accuracy: 61.17%\n"
          ]
        },
        {
          "output_type": "stream",
          "name": "stderr",
          "text": [
            "Training: 100%|██████████| 100/100 [00:09<00:00, 10.96it/s]\n"
          ]
        },
        {
          "output_type": "stream",
          "name": "stdout",
          "text": [
            "Epoch  6 | Train Loss: 0.015, Accuracy: 99.70% | Validation Loss: 1.785, Accuracy: 61.14%\n"
          ]
        },
        {
          "output_type": "stream",
          "name": "stderr",
          "text": [
            "Training: 100%|██████████| 100/100 [00:09<00:00, 10.94it/s]\n"
          ]
        },
        {
          "output_type": "stream",
          "name": "stdout",
          "text": [
            "Epoch  7 | Train Loss: 0.012, Accuracy: 99.72% | Validation Loss: 1.890, Accuracy: 58.06%\n"
          ]
        },
        {
          "output_type": "stream",
          "name": "stderr",
          "text": [
            "Training: 100%|██████████| 100/100 [00:09<00:00, 10.91it/s]\n"
          ]
        },
        {
          "output_type": "stream",
          "name": "stdout",
          "text": [
            "Epoch  8 | Train Loss: 0.011, Accuracy: 99.76% | Validation Loss: 1.908, Accuracy: 58.37%\n"
          ]
        },
        {
          "output_type": "stream",
          "name": "stderr",
          "text": [
            "Training: 100%|██████████| 100/100 [00:09<00:00, 10.97it/s]\n"
          ]
        },
        {
          "output_type": "stream",
          "name": "stdout",
          "text": [
            "Epoch  9 | Train Loss: 0.008, Accuracy: 99.86% | Validation Loss: 1.843, Accuracy: 58.78%\n"
          ]
        },
        {
          "output_type": "stream",
          "name": "stderr",
          "text": [
            "Training: 100%|██████████| 100/100 [00:09<00:00, 10.95it/s]\n"
          ]
        },
        {
          "output_type": "stream",
          "name": "stdout",
          "text": [
            "Epoch 10 | Train Loss: 0.007, Accuracy: 99.85% | Validation Loss: 2.011, Accuracy: 58.65%\n"
          ]
        },
        {
          "output_type": "display_data",
          "data": {
            "text/plain": [
              "<Figure size 640x480 with 2 Axes>"
            ],
            "image/png": "[encoded data removed]"
          },
          "metadata": {}
        },
        {
          "output_type": "stream",
          "name": "stdout",
          "text": [
            "Final score: validation accuracy over 3 seeds| mean: 57.6675% | std: 1.4730%\n"
          ]
        }
      ]
    }
  ],
  "metadata": {
    "colab": {
      "provenance": []
    },
    "kernelspec": {
      "display_name": "Python 3",
      "name": "python3"
    },
    "language_info": {
      "name": "python"
    }
  },
  "nbformat": 4,
  "nbformat_minor": 0
}